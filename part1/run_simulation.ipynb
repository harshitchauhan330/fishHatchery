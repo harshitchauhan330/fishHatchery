{
 "cells": [
  {
   "cell_type": "code",
   "execution_count": 1,
   "id": "b25ee3ce-e9e8-46e8-abea-2fc5c95bd965",
   "metadata": {},
   "outputs": [],
   "source": [
    "import os\n",
    "import sys\n"
   ]
  },
  {
   "cell_type": "code",
   "execution_count": 2,
   "id": "1d109519-deaf-4a86-b28f-4877ea5aba4c",
   "metadata": {},
   "outputs": [],
   "source": [
    "sys.path.append(os.path.abspath('./'))\n"
   ]
  },
  {
   "cell_type": "code",
   "execution_count": 3,
   "id": "22f6d88e-e946-45da-bf31-4f722d3df694",
   "metadata": {},
   "outputs": [
    {
     "name": "stdin",
     "output_type": "stream",
     "text": [
      "Enter the number of quarters to run the simulation (default 8):  sdf\n"
     ]
    },
    {
     "ename": "ValueError",
     "evalue": "invalid literal for int() with base 10: 'sdf'",
     "output_type": "error",
     "traceback": [
      "\u001b[1;31m---------------------------------------------------------------------------\u001b[0m",
      "\u001b[1;31mValueError\u001b[0m                                Traceback (most recent call last)",
      "File \u001b[1;32m~\\FishHatcheryProject\\part1\\main.py:167\u001b[0m\n\u001b[0;32m    164\u001b[0m             \u001b[38;5;28mprint\u001b[39m(\u001b[38;5;124mf\u001b[39m\u001b[38;5;124m\"\u001b[39m\u001b[38;5;124mWarning: Cash is low, only £\u001b[39m\u001b[38;5;132;01m{\u001b[39;00mhatchery\u001b[38;5;241m.\u001b[39mcash\u001b[38;5;132;01m:\u001b[39;00m\u001b[38;5;124m.2f\u001b[39m\u001b[38;5;132;01m}\u001b[39;00m\u001b[38;5;124m remaining.\u001b[39m\u001b[38;5;124m\"\u001b[39m)\n\u001b[0;32m    166\u001b[0m \u001b[38;5;28;01mif\u001b[39;00m \u001b[38;5;18m__name__\u001b[39m \u001b[38;5;241m==\u001b[39m \u001b[38;5;124m\"\u001b[39m\u001b[38;5;124m__main__\u001b[39m\u001b[38;5;124m\"\u001b[39m:\n\u001b[1;32m--> 167\u001b[0m     \u001b[43mmain\u001b[49m\u001b[43m(\u001b[49m\u001b[43m)\u001b[49m\n",
      "File \u001b[1;32m~\\FishHatcheryProject\\part1\\main.py:29\u001b[0m, in \u001b[0;36mmain\u001b[1;34m()\u001b[0m\n\u001b[0;32m     19\u001b[0m fish_species \u001b[38;5;241m=\u001b[39m [\n\u001b[0;32m     20\u001b[0m     Fish(\u001b[38;5;124m\"\u001b[39m\u001b[38;5;124mClef Fins\u001b[39m\u001b[38;5;124m\"\u001b[39m, \u001b[38;5;241m100.0\u001b[39m, \u001b[38;5;241m12\u001b[39m, \u001b[38;5;241m2\u001b[39m, \u001b[38;5;241m2.0\u001b[39m, \u001b[38;5;241m250\u001b[39m, \u001b[38;5;241m25\u001b[39m),\n\u001b[0;32m     21\u001b[0m     Fish(\u001b[38;5;124m\"\u001b[39m\u001b[38;5;124mTimpani Snapper\u001b[39m\u001b[38;5;124m\"\u001b[39m, \u001b[38;5;241m50.0\u001b[39m, \u001b[38;5;241m9\u001b[39m, \u001b[38;5;241m2\u001b[39m, \u001b[38;5;241m1.0\u001b[39m, \u001b[38;5;241m350\u001b[39m, \u001b[38;5;241m10\u001b[39m),\n\u001b[1;32m   (...)\u001b[0m\n\u001b[0;32m     25\u001b[0m     Fish(\u001b[38;5;124m\"\u001b[39m\u001b[38;5;124mModal Bass\u001b[39m\u001b[38;5;124m\"\u001b[39m, \u001b[38;5;241m300.0\u001b[39m, \u001b[38;5;241m12\u001b[39m, \u001b[38;5;241m6\u001b[39m, \u001b[38;5;241m3.0\u001b[39m, \u001b[38;5;241m500\u001b[39m, \u001b[38;5;241m50\u001b[39m),\n\u001b[0;32m     26\u001b[0m ]\n\u001b[0;32m     28\u001b[0m \u001b[38;5;66;03m# Simulation parameters\u001b[39;00m\n\u001b[1;32m---> 29\u001b[0m num_quarters \u001b[38;5;241m=\u001b[39m \u001b[38;5;28;43mint\u001b[39;49m\u001b[43m(\u001b[49m\u001b[38;5;28;43minput\u001b[39;49m\u001b[43m(\u001b[49m\u001b[38;5;124;43m\"\u001b[39;49m\u001b[38;5;124;43mEnter the number of quarters to run the simulation (default 8): \u001b[39;49m\u001b[38;5;124;43m\"\u001b[39;49m\u001b[43m)\u001b[49m\u001b[43m \u001b[49m\u001b[38;5;129;43;01mor\u001b[39;49;00m\u001b[43m \u001b[49m\u001b[38;5;241;43m8\u001b[39;49m\u001b[43m)\u001b[49m\n\u001b[0;32m     30\u001b[0m fixed_costs \u001b[38;5;241m=\u001b[39m \u001b[38;5;241m1500\u001b[39m  \u001b[38;5;66;03m# Quarterly fixed costs\u001b[39;00m\n\u001b[0;32m     31\u001b[0m vendor_prices \u001b[38;5;241m=\u001b[39m {\n\u001b[0;32m     32\u001b[0m     \u001b[38;5;241m1\u001b[39m: {\u001b[38;5;124m\"\u001b[39m\u001b[38;5;124mfertilizer\u001b[39m\u001b[38;5;124m\"\u001b[39m: \u001b[38;5;241m0.30\u001b[39m, \u001b[38;5;124m\"\u001b[39m\u001b[38;5;124mfeed\u001b[39m\u001b[38;5;124m\"\u001b[39m: \u001b[38;5;241m0.10\u001b[39m, \u001b[38;5;124m\"\u001b[39m\u001b[38;5;124msalt\u001b[39m\u001b[38;5;124m\"\u001b[39m: \u001b[38;5;241m0.05\u001b[39m},\n\u001b[0;32m     33\u001b[0m     \u001b[38;5;241m2\u001b[39m: {\u001b[38;5;124m\"\u001b[39m\u001b[38;5;124mfertilizer\u001b[39m\u001b[38;5;124m\"\u001b[39m: \u001b[38;5;241m0.20\u001b[39m, \u001b[38;5;124m\"\u001b[39m\u001b[38;5;124mfeed\u001b[39m\u001b[38;5;124m\"\u001b[39m: \u001b[38;5;241m0.40\u001b[39m, \u001b[38;5;124m\"\u001b[39m\u001b[38;5;124msalt\u001b[39m\u001b[38;5;124m\"\u001b[39m: \u001b[38;5;241m0.25\u001b[39m}\n\u001b[0;32m     34\u001b[0m }\n",
      "\u001b[1;31mValueError\u001b[0m: invalid literal for int() with base 10: 'sdf'"
     ]
    }
   ],
   "source": [
    "%run main.py\n"
   ]
  },
  {
   "cell_type": "code",
   "execution_count": null,
   "id": "b2a9df0f-74a6-4ba7-875e-15a4aa181fe7",
   "metadata": {},
   "outputs": [],
   "source": []
  },
  {
   "cell_type": "code",
   "execution_count": null,
   "id": "9d5a561f-a733-4080-a64f-18f14b69a27c",
   "metadata": {},
   "outputs": [],
   "source": []
  }
 ],
 "metadata": {
  "kernelspec": {
   "display_name": "Python 3 (ipykernel)",
   "language": "python",
   "name": "python3"
  },
  "language_info": {
   "codemirror_mode": {
    "name": "ipython",
    "version": 3
   },
   "file_extension": ".py",
   "mimetype": "text/x-python",
   "name": "python",
   "nbconvert_exporter": "python",
   "pygments_lexer": "ipython3",
   "version": "3.12.0"
  }
 },
 "nbformat": 4,
 "nbformat_minor": 5
}
